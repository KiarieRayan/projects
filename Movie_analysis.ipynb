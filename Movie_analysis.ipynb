{
 "cells": [
  {
   "cell_type": "markdown",
   "metadata": {
    "id": "O3uhQEw4Jqnt"
   },
   "source": [
    "# Gather Section (20 Questions, 40 Marks)\n",
    "\n",
    "You should have access to a file called TMDB.db. The first step to answering this set of questions will be to connect to this db file to access the data. \n",
    "\n",
    "![SQL Architectures](https://raw.githubusercontent.com/Explore-AI/Public-Data/master/image/TMDB_ERD.JPG)\n",
    "\n",
    "Before we start we need to load our SQL magic commands (we only need do this once per notebook):"
   ]
  },
  {
   "cell_type": "code",
   "execution_count": 1,
   "metadata": {
    "id": "tYyzGpQrJqnv"
   },
   "outputs": [],
   "source": [
    "%load_ext sql"
   ]
  },
  {
   "cell_type": "code",
   "execution_count": 2,
   "metadata": {},
   "outputs": [],
   "source": [
    "from sqlalchemy import create_engine, MetaData, Table"
   ]
  },
  {
   "cell_type": "markdown",
   "metadata": {
    "id": "ok5TGOw3Jqnw"
   },
   "source": [
    "*Note: we have to prepend a Jupyter notebook cell with `%%sql` in order to run a SQL query. Place your code in the '# Your code here' lines. If you experience trouble connecting to the .db file, please ensure that you have the `pymysql` and `ipython-sql` packages installed. Also ensure that `sqlalchemy` is pinned at a version <2.*\n",
    "\n",
    "\n",
    "Based on that data, answer the following questions:\n",
    "\n",
    "\n",
    "### Question 11\n",
    "What is the code you can use to connect to the TMBD database that is saved in the same location with the Jupyter notebook?\n"
   ]
  },
  {
   "cell_type": "code",
   "execution_count": 3,
   "metadata": {
    "id": "bkHzM8QXJqnw"
   },
   "outputs": [],
   "source": [
    "%sql sqlite:///ALX_DS_Integrated_FInal_exam_data/ALX_DS_Integrated_FInal_exam_data/Exam_data_part_1/TMDB.db"
   ]
  },
  {
   "cell_type": "code",
   "execution_count": 4,
   "metadata": {},
   "outputs": [
    {
     "name": "stdout",
     "output_type": "stream",
     "text": [
      " * sqlite:///ALX_DS_Integrated_FInal_exam_data/ALX_DS_Integrated_FInal_exam_data/Exam_data_part_1/TMDB.db\n",
      "Done.\n"
     ]
    },
    {
     "data": {
      "text/html": [
       "<table>\n",
       "    <thead>\n",
       "        <tr>\n",
       "            <th>movie_id</th>\n",
       "            <th>title</th>\n",
       "            <th>release_date</th>\n",
       "            <th>budget</th>\n",
       "            <th>homepage</th>\n",
       "            <th>original_language</th>\n",
       "            <th>original_title</th>\n",
       "            <th>overview</th>\n",
       "            <th>popularity</th>\n",
       "            <th>revenue</th>\n",
       "            <th>runtime</th>\n",
       "            <th>release_status</th>\n",
       "            <th>tagline</th>\n",
       "            <th>vote_average</th>\n",
       "            <th>vote_count</th>\n",
       "        </tr>\n",
       "    </thead>\n",
       "    <tbody>\n",
       "        <tr>\n",
       "            <td>5</td>\n",
       "            <td>Four Rooms</td>\n",
       "            <td>1995-12-09 00:00:00.000000</td>\n",
       "            <td>4000000</td>\n",
       "            <td>None</td>\n",
       "            <td>en</td>\n",
       "            <td>Four Rooms</td>\n",
       "            <td>It&#x27;s Ted the Bellhop&#x27;s first night on the job...and the hotel&#x27;s very unusual guests are about to place him in some outrageous predicaments. It seems that this evening&#x27;s room service is serving up one unbelievable happening after another.</td>\n",
       "            <td>22.87623</td>\n",
       "            <td>4300000.0</td>\n",
       "            <td>98.0</td>\n",
       "            <td>Released</td>\n",
       "            <td>Twelve outrageous guests. Four scandalous requests. And one lone bellhop, in his first day on the job, who&#x27;s in for the wildest New year&#x27;s Eve of his life.</td>\n",
       "            <td>6.5</td>\n",
       "            <td>530</td>\n",
       "        </tr>\n",
       "        <tr>\n",
       "            <td>11</td>\n",
       "            <td>Star Wars</td>\n",
       "            <td>1977-05-25 00:00:00.000000</td>\n",
       "            <td>11000000</td>\n",
       "            <td>http://www.starwars.com/films/star-wars-episode-iv-a-new-hope</td>\n",
       "            <td>en</td>\n",
       "            <td>Star Wars</td>\n",
       "            <td>Princess Leia is captured and held hostage by the evil Imperial forces in their effort to take over the galactic Empire. Venturesome Luke Skywalker and dashing captain Han Solo team together with the loveable robot duo R2-D2 and C-3PO to rescue the beautiful princess and restore peace and justice in the Empire.</td>\n",
       "            <td>126.393695</td>\n",
       "            <td>775398007.0</td>\n",
       "            <td>121.0</td>\n",
       "            <td>Released</td>\n",
       "            <td>A long time ago in a galaxy far, far away...</td>\n",
       "            <td>8.1</td>\n",
       "            <td>6624</td>\n",
       "        </tr>\n",
       "    </tbody>\n",
       "</table>"
      ],
      "text/plain": [
       "[(5, 'Four Rooms', '1995-12-09 00:00:00.000000', 4000000, None, 'en', 'Four Rooms', \"It's Ted the Bellhop's first night on the job...and the hotel's very unusual guests are about to place him in some outrageous predicaments. It seems that this evening's room service is serving up one unbelievable happening after another.\", 22.87623, 4300000.0, 98.0, 'Released', \"Twelve outrageous guests. Four scandalous requests. And one lone bellhop, in his first day on the job, who's in for the wildest New year's Eve of his life.\", 6.5, 530),\n",
       " (11, 'Star Wars', '1977-05-25 00:00:00.000000', 11000000, 'http://www.starwars.com/films/star-wars-episode-iv-a-new-hope', 'en', 'Star Wars', 'Princess Leia is captured and held hostage by the evil Imperial forces in their effort to take over the galactic Empire. Venturesome Luke Skywalker a ... (14 characters truncated) ... tain Han Solo team together with the loveable robot duo R2-D2 and C-3PO to rescue the beautiful princess and restore peace and justice in the Empire.', 126.393695, 775398007.0, 121.0, 'Released', 'A long time ago in a galaxy far, far away...', 8.1, 6624)]"
      ]
     },
     "execution_count": 4,
     "metadata": {},
     "output_type": "execute_result"
    }
   ],
   "source": [
    "%%sql\n",
    "select * from Movies\n",
    "limit 2;"
   ]
  },
  {
   "cell_type": "markdown",
   "metadata": {
    "id": "JgRO7x1-Jqnx"
   },
   "source": [
    "### Question 12\n",
    "What is the primary key for the table “movies”?\n",
    "\n"
   ]
  },
  {
   "cell_type": "code",
   "execution_count": 5,
   "metadata": {},
   "outputs": [],
   "source": [
    "from sqlalchemy import create_engine, MetaData, Table"
   ]
  },
  {
   "cell_type": "code",
   "execution_count": 6,
   "metadata": {},
   "outputs": [
    {
     "ename": "NameError",
     "evalue": "name 'metadata' is not defined",
     "output_type": "error",
     "traceback": [
      "\u001b[0;31m---------------------------------------------------------------------------\u001b[0m",
      "\u001b[0;31mNameError\u001b[0m                                 Traceback (most recent call last)",
      "Cell \u001b[0;32mIn[6], line 2\u001b[0m\n\u001b[1;32m      1\u001b[0m \u001b[38;5;66;03m# Reflect the languages table\u001b[39;00m\n\u001b[0;32m----> 2\u001b[0m languages_table \u001b[38;5;241m=\u001b[39m Table(\u001b[38;5;124m'\u001b[39m\u001b[38;5;124mlanguagemap\u001b[39m\u001b[38;5;124m'\u001b[39m, \u001b[43mmetadata\u001b[49m, autoload_with\u001b[38;5;241m=\u001b[39mengine)\n\u001b[1;32m      3\u001b[0m \u001b[38;5;28mprint\u001b[39m(\u001b[38;5;124mf\u001b[39m\u001b[38;5;124m\"\u001b[39m\u001b[38;5;124mForeign keys in \u001b[39m\u001b[38;5;124m'\u001b[39m\u001b[38;5;124mlanguages\u001b[39m\u001b[38;5;124m'\u001b[39m\u001b[38;5;124m: \u001b[39m\u001b[38;5;132;01m{\u001b[39;00m[fk\u001b[38;5;241m.\u001b[39mparent\u001b[38;5;241m.\u001b[39mname\u001b[38;5;250m \u001b[39m\u001b[38;5;28;01mfor\u001b[39;00m\u001b[38;5;250m \u001b[39mfk\u001b[38;5;250m \u001b[39m\u001b[38;5;129;01min\u001b[39;00m\u001b[38;5;250m \u001b[39mlanguages_table\u001b[38;5;241m.\u001b[39mforeign_keys]\u001b[38;5;132;01m}\u001b[39;00m\u001b[38;5;124m\"\u001b[39m)\n\u001b[1;32m      5\u001b[0m \u001b[38;5;66;03m# Reflect the movies table\u001b[39;00m\n",
      "\u001b[0;31mNameError\u001b[0m: name 'metadata' is not defined"
     ]
    }
   ],
   "source": [
    "# Reflect the languages table\n",
    "languages_table = Table('languagemap', metadata, autoload_with=engine)\n",
    "print(f\"Foreign keys in 'languages': {[fk.parent.name for fk in languages_table.foreign_keys]}\")\n",
    "\n",
    "# Reflect the movies table\n",
    "movies_table = Table('Movies', metadata, autoload_with=engine)\n",
    "print(f\"Foreign keys in 'movies': {[fk.parent.name for fk in movies_table.foreign_keys]}\")"
   ]
  },
  {
   "cell_type": "markdown",
   "metadata": {
    "id": "KSkdaG_iJqnx"
   },
   "source": [
    "### Question 13\n",
    "How many foreign keys does the “languagemap” table have?\n",
    "\n"
   ]
  },
  {
   "cell_type": "markdown",
   "metadata": {
    "id": "eO7T-b9AJqnx"
   },
   "source": [
    "### Question 14\n",
    "What code would you use to set up a view of all movies that did not get released?\n"
   ]
  },
  {
   "cell_type": "code",
   "execution_count": 7,
   "metadata": {
    "id": "8FTBNKnlJqny"
   },
   "outputs": [
    {
     "name": "stdout",
     "output_type": "stream",
     "text": [
      " * sqlite:///ALX_DS_Integrated_FInal_exam_data/ALX_DS_Integrated_FInal_exam_data/Exam_data_part_1/TMDB.db\n",
      "(sqlite3.OperationalError) view Not_Released already exists\n",
      "[SQL: CREATE VIEW Not_Released AS\n",
      "SELECT * FROM movies\n",
      "WHERE release_status != 'Released']\n",
      "(Background on this error at: https://sqlalche.me/e/20/e3q8)\n"
     ]
    }
   ],
   "source": [
    "%%sql \n",
    "\n",
    "CREATE VIEW Not_Released AS\n",
    "SELECT * FROM movies\n",
    "WHERE release_status != 'Released'"
   ]
  },
  {
   "cell_type": "markdown",
   "metadata": {
    "id": "GxuX_z8iJqny"
   },
   "source": [
    "### Question 15\n",
    "How would you select only the title, release date, and release status columns from the view you created in the previous question?\n"
   ]
  },
  {
   "cell_type": "code",
   "execution_count": 8,
   "metadata": {
    "id": "7E0ZI_d9Jqnz"
   },
   "outputs": [
    {
     "name": "stdout",
     "output_type": "stream",
     "text": [
      " * sqlite:///ALX_DS_Integrated_FInal_exam_data/ALX_DS_Integrated_FInal_exam_data/Exam_data_part_1/TMDB.db\n",
      "Done.\n"
     ]
    },
    {
     "data": {
      "text/html": [
       "<table>\n",
       "    <thead>\n",
       "        <tr>\n",
       "            <th>title</th>\n",
       "            <th>release_date</th>\n",
       "            <th>release_status</th>\n",
       "        </tr>\n",
       "    </thead>\n",
       "    <tbody>\n",
       "        <tr>\n",
       "            <td>Little Big Top</td>\n",
       "            <td>2006-01-01 00:00:00.000000</td>\n",
       "            <td>Rumored</td>\n",
       "        </tr>\n",
       "        <tr>\n",
       "            <td>The Helix... Loaded</td>\n",
       "            <td>2005-01-01 00:00:00.000000</td>\n",
       "            <td>Rumored</td>\n",
       "        </tr>\n",
       "        <tr>\n",
       "            <td>Higher Ground</td>\n",
       "            <td>2011-08-26 00:00:00.000000</td>\n",
       "            <td>Post Production</td>\n",
       "        </tr>\n",
       "        <tr>\n",
       "            <td>Crying with Laughter</td>\n",
       "            <td>2009-06-01 00:00:00.000000</td>\n",
       "            <td>Rumored</td>\n",
       "        </tr>\n",
       "        <tr>\n",
       "            <td>The Harvest (La Cosecha)</td>\n",
       "            <td>2011-07-29 00:00:00.000000</td>\n",
       "            <td>Rumored</td>\n",
       "        </tr>\n",
       "        <tr>\n",
       "            <td>The Naked Ape</td>\n",
       "            <td>2006-09-16 00:00:00.000000</td>\n",
       "            <td>Rumored</td>\n",
       "        </tr>\n",
       "        <tr>\n",
       "            <td>Brotherly Love</td>\n",
       "            <td>2015-04-24 00:00:00.000000</td>\n",
       "            <td>Post Production</td>\n",
       "        </tr>\n",
       "        <tr>\n",
       "            <td>Dancin&#x27; It&#x27;s On</td>\n",
       "            <td>2015-10-16 00:00:00.000000</td>\n",
       "            <td>Post Production</td>\n",
       "        </tr>\n",
       "    </tbody>\n",
       "</table>"
      ],
      "text/plain": [
       "[('Little Big Top', '2006-01-01 00:00:00.000000', 'Rumored'),\n",
       " ('The Helix... Loaded', '2005-01-01 00:00:00.000000', 'Rumored'),\n",
       " ('Higher Ground', '2011-08-26 00:00:00.000000', 'Post Production'),\n",
       " ('Crying with Laughter', '2009-06-01 00:00:00.000000', 'Rumored'),\n",
       " ('The Harvest (La Cosecha)', '2011-07-29 00:00:00.000000', 'Rumored'),\n",
       " ('The Naked Ape', '2006-09-16 00:00:00.000000', 'Rumored'),\n",
       " ('Brotherly Love', '2015-04-24 00:00:00.000000', 'Post Production'),\n",
       " (\"Dancin' It's On\", '2015-10-16 00:00:00.000000', 'Post Production')]"
      ]
     },
     "execution_count": 8,
     "metadata": {},
     "output_type": "execute_result"
    }
   ],
   "source": [
    "%%sql \n",
    "select title, release_date, release_status\n",
    "from Not_Released;"
   ]
  },
  {
   "cell_type": "markdown",
   "metadata": {
    "id": "WYqGtSSkJqnz"
   },
   "source": [
    "### Question 16\n",
    "How many movies are no longer using their original titles?\n",
    "\n"
   ]
  },
  {
   "cell_type": "code",
   "execution_count": 9,
   "metadata": {
    "id": "4l4MbDo2Jqn0"
   },
   "outputs": [
    {
     "name": "stdout",
     "output_type": "stream",
     "text": [
      " * sqlite:///ALX_DS_Integrated_FInal_exam_data/ALX_DS_Integrated_FInal_exam_data/Exam_data_part_1/TMDB.db\n",
      "Done.\n"
     ]
    },
    {
     "data": {
      "text/html": [
       "<table>\n",
       "    <thead>\n",
       "        <tr>\n",
       "            <th>count(*)</th>\n",
       "        </tr>\n",
       "    </thead>\n",
       "    <tbody>\n",
       "        <tr>\n",
       "            <td>261</td>\n",
       "        </tr>\n",
       "    </tbody>\n",
       "</table>"
      ],
      "text/plain": [
       "[(261,)]"
      ]
     },
     "execution_count": 9,
     "metadata": {},
     "output_type": "execute_result"
    }
   ],
   "source": [
    "%%sql \n",
    "select count(*) from movies\n",
    "where title != original_title;"
   ]
  },
  {
   "cell_type": "markdown",
   "metadata": {
    "id": "_ZJuNLfPJqn0"
   },
   "source": [
    "### Question 17\n",
    "What is the most popular movie that was made after 01/01/2000 with a budget of more than $100 000 000? (Hint: Use the popularity field in the Movies table. Larger numbers are more popular.)\n"
   ]
  },
  {
   "cell_type": "code",
   "execution_count": 10,
   "metadata": {
    "id": "AY2PN5HzJqn0"
   },
   "outputs": [
    {
     "name": "stdout",
     "output_type": "stream",
     "text": [
      " * sqlite:///ALX_DS_Integrated_FInal_exam_data/ALX_DS_Integrated_FInal_exam_data/Exam_data_part_1/TMDB.db\n",
      "Done.\n"
     ]
    },
    {
     "data": {
      "text/html": [
       "<table>\n",
       "    <thead>\n",
       "        <tr>\n",
       "            <th>movie_id</th>\n",
       "            <th>title</th>\n",
       "            <th>release_date</th>\n",
       "            <th>budget</th>\n",
       "            <th>homepage</th>\n",
       "            <th>original_language</th>\n",
       "            <th>original_title</th>\n",
       "            <th>overview</th>\n",
       "            <th>popularity</th>\n",
       "            <th>revenue</th>\n",
       "            <th>runtime</th>\n",
       "            <th>release_status</th>\n",
       "            <th>tagline</th>\n",
       "            <th>vote_average</th>\n",
       "            <th>vote_count</th>\n",
       "        </tr>\n",
       "    </thead>\n",
       "    <tbody>\n",
       "        <tr>\n",
       "            <td>157336</td>\n",
       "            <td>Interstellar</td>\n",
       "            <td>2014-11-05 00:00:00.000000</td>\n",
       "            <td>165000000</td>\n",
       "            <td>http://www.interstellarmovie.net/</td>\n",
       "            <td>en</td>\n",
       "            <td>Interstellar</td>\n",
       "            <td>Interstellar chronicles the adventures of a group of explorers who make use of a newly discovered wormhole to surpass the limitations on human space travel and conquer the vast distances involved in an interstellar voyage.</td>\n",
       "            <td>724.247784</td>\n",
       "            <td>675120017.0</td>\n",
       "            <td>169.0</td>\n",
       "            <td>Released</td>\n",
       "            <td>Mankind was born on Earth. It was never meant to die here.</td>\n",
       "            <td>8.1</td>\n",
       "            <td>10867</td>\n",
       "        </tr>\n",
       "    </tbody>\n",
       "</table>"
      ],
      "text/plain": [
       "[(157336, 'Interstellar', '2014-11-05 00:00:00.000000', 165000000, 'http://www.interstellarmovie.net/', 'en', 'Interstellar', 'Interstellar chronicles the adventures of a group of explorers who make use of a newly discovered wormhole to surpass the limitations on human space travel and conquer the vast distances involved in an interstellar voyage.', 724.247784, 675120017.0, 169.0, 'Released', 'Mankind was born on Earth. It was never meant to die here.', 8.1, 10867)]"
      ]
     },
     "execution_count": 10,
     "metadata": {},
     "output_type": "execute_result"
    }
   ],
   "source": [
    "%%sql \n",
    "SELECT * \n",
    "FROM movies \n",
    "WHERE release_date > '2000-01-01' \n",
    "  AND budget > 100000000 \n",
    "ORDER BY popularity DESC \n",
    "LIMIT 1;"
   ]
  },
  {
   "cell_type": "markdown",
   "metadata": {
    "id": "CfRuCZ68Jqn0"
   },
   "source": [
    "### Question 18\n",
    "How many movies are there that do not have English as their original language? \n",
    "\n"
   ]
  },
  {
   "cell_type": "code",
   "execution_count": 17,
   "metadata": {
    "id": "xptzYlgmJqn1"
   },
   "outputs": [
    {
     "name": "stdout",
     "output_type": "stream",
     "text": [
      " * sqlite:///ALX_DS_Integrated_FInal_exam_data/ALX_DS_Integrated_FInal_exam_data/Exam_data_part_1/TMDB.db\n",
      "Done.\n"
     ]
    },
    {
     "data": {
      "text/html": [
       "<table>\n",
       "    <thead>\n",
       "        <tr>\n",
       "            <th>COUNT(*)</th>\n",
       "        </tr>\n",
       "    </thead>\n",
       "    <tbody>\n",
       "        <tr>\n",
       "            <td>298</td>\n",
       "        </tr>\n",
       "    </tbody>\n",
       "</table>"
      ],
      "text/plain": [
       "[(298,)]"
      ]
     },
     "execution_count": 17,
     "metadata": {},
     "output_type": "execute_result"
    }
   ],
   "source": [
    "%%sql \n",
    "SELECT COUNT(*) FROM movies\n",
    "WHERE original_language != 'en';"
   ]
  },
  {
   "cell_type": "markdown",
   "metadata": {
    "id": "Xrn3qSOTJqn1"
   },
   "source": [
    "### Question 19\n",
    "How many movies in the database were produced by Pixar Animation Studios?\n",
    "\n"
   ]
  },
  {
   "cell_type": "code",
   "execution_count": 12,
   "metadata": {
    "id": "KaZyZChwJqn2"
   },
   "outputs": [
    {
     "name": "stdout",
     "output_type": "stream",
     "text": [
      " * sqlite:///ALX_DS_Integrated_FInal_exam_data/ALX_DS_Integrated_FInal_exam_data/Exam_data_part_1/TMDB.db\n",
      "Done.\n"
     ]
    },
    {
     "data": {
      "text/html": [
       "<table>\n",
       "    <thead>\n",
       "        <tr>\n",
       "            <th>number_of_pixar_movies</th>\n",
       "        </tr>\n",
       "    </thead>\n",
       "    <tbody>\n",
       "        <tr>\n",
       "            <td>16</td>\n",
       "        </tr>\n",
       "    </tbody>\n",
       "</table>"
      ],
      "text/plain": [
       "[(16,)]"
      ]
     },
     "execution_count": 12,
     "metadata": {},
     "output_type": "execute_result"
    }
   ],
   "source": [
    "%%sql \n",
    "SELECT COUNT(*) AS number_of_pixar_movies\n",
    "FROM Movies m\n",
    "JOIN ProductionCompanyMap p on m.movie_id = p.movie_id\n",
    "JOIN ProductionCompanies pc on p.production_company_id = pc.production_company_id\n",
    "WHERE pc.production_company_name = 'Pixar Animation Studios';"
   ]
  },
  {
   "cell_type": "markdown",
   "metadata": {
    "id": "_ewCIJeBJqn2"
   },
   "source": [
    "### Question 20\n",
    "How many movies are in the database that are both a Romance and a Comedy?\n"
   ]
  },
  {
   "cell_type": "code",
   "execution_count": 28,
   "metadata": {},
   "outputs": [
    {
     "name": "stdout",
     "output_type": "stream",
     "text": [
      " * sqlite:///ALX_DS_Integrated_FInal_exam_data/ALX_DS_Integrated_FInal_exam_data/Exam_data_part_1/TMDB.db\n",
      "Done.\n"
     ]
    },
    {
     "data": {
      "text/html": [
       "<table>\n",
       "    <thead>\n",
       "        <tr>\n",
       "            <th>number_with_romance_comedy</th>\n",
       "        </tr>\n",
       "    </thead>\n",
       "    <tbody>\n",
       "        <tr>\n",
       "            <td>484</td>\n",
       "        </tr>\n",
       "    </tbody>\n",
       "</table>"
      ],
      "text/plain": [
       "[(484,)]"
      ]
     },
     "execution_count": 28,
     "metadata": {},
     "output_type": "execute_result"
    }
   ],
   "source": [
    "%%sql\n",
    "SELECT COUNT(DISTINCT m.movie_id) as number_with_romance_comedy\n",
    "FROM movies m\n",
    "JOIN GENREMAP gm1 ON m.movie_id = gm1.movie_id\n",
    "JOIN genres g1 ON gm1.genre_id = g1.genre_id\n",
    "JOIN GENREMAP gm2 ON m.movie_id = gm2.movie_id\n",
    "JOIN genres g2 ON gm2.genre_id = g2.genre_id\n",
    "WHERE g1.genre_name = 'Romance'\n",
    "  AND g2.genre_name = 'Comedy';\n"
   ]
  },
  {
   "cell_type": "markdown",
   "metadata": {},
   "source": [
    "- The line JOIN genres g2 ON gm2.genre_id = g2.genre_id is added to ensure that we are checking for the second genre (`Comedy`) independently of the first genre (`Romance`). By joining the GENREMAP and genres tables twice, we can check if a movie has both genres.\n",
    "- If you want to count movies that belong to both 'Romance' and 'Comedy' genres without needing to join the tables twice, you could use a subquery approach:"
   ]
  },
  {
   "cell_type": "code",
   "execution_count": 29,
   "metadata": {},
   "outputs": [
    {
     "name": "stdout",
     "output_type": "stream",
     "text": [
      " * sqlite:///ALX_DS_Integrated_FInal_exam_data/ALX_DS_Integrated_FInal_exam_data/Exam_data_part_1/TMDB.db\n",
      "Done.\n"
     ]
    },
    {
     "data": {
      "text/html": [
       "<table>\n",
       "    <thead>\n",
       "        <tr>\n",
       "            <th>number_with_romance_comedy</th>\n",
       "        </tr>\n",
       "    </thead>\n",
       "    <tbody>\n",
       "        <tr>\n",
       "            <td>484</td>\n",
       "        </tr>\n",
       "    </tbody>\n",
       "</table>"
      ],
      "text/plain": [
       "[(484,)]"
      ]
     },
     "execution_count": 29,
     "metadata": {},
     "output_type": "execute_result"
    }
   ],
   "source": [
    "%%sql\n",
    "SELECT COUNT(*) as number_with_romance_comedy\n",
    "FROM (\n",
    "    SELECT m.movie_id\n",
    "    FROM movies m\n",
    "    JOIN GENREMAP gm ON m.movie_id = gm.movie_id\n",
    "    JOIN genres g ON gm.genre_id = g.genre_id\n",
    "    WHERE g.genre_name IN ('Romance', 'Comedy')\n",
    "    GROUP BY m.movie_id\n",
    "    HAVING COUNT(DISTINCT g.genre_name) = 2\n",
    ") AS subquery;\n"
   ]
  },
  {
   "cell_type": "markdown",
   "metadata": {
    "id": "SRlyr7qcJqn2"
   },
   "source": [
    "### Question 21\n",
    "What is the most popular action movie that has some German in it? (Hint: The German word for German is Deutsch)"
   ]
  },
  {
   "cell_type": "code",
   "execution_count": 47,
   "metadata": {
    "id": "9aS6m4uxJqn3"
   },
   "outputs": [
    {
     "name": "stdout",
     "output_type": "stream",
     "text": [
      " * sqlite:///ALX_DS_Integrated_FInal_exam_data/ALX_DS_Integrated_FInal_exam_data/Exam_data_part_1/TMDB.db\n",
      "Done.\n"
     ]
    },
    {
     "data": {
      "text/html": [
       "<table>\n",
       "    <thead>\n",
       "        <tr>\n",
       "            <th>movie_id</th>\n",
       "            <th>title</th>\n",
       "            <th>release_date</th>\n",
       "            <th>budget</th>\n",
       "            <th>homepage</th>\n",
       "            <th>original_language</th>\n",
       "            <th>original_title</th>\n",
       "            <th>overview</th>\n",
       "            <th>popularity</th>\n",
       "            <th>revenue</th>\n",
       "            <th>runtime</th>\n",
       "            <th>release_status</th>\n",
       "            <th>tagline</th>\n",
       "            <th>vote_average</th>\n",
       "            <th>vote_count</th>\n",
       "        </tr>\n",
       "    </thead>\n",
       "    <tbody>\n",
       "        <tr>\n",
       "            <td>271110</td>\n",
       "            <td>Captain America: Civil War</td>\n",
       "            <td>2016-04-27 00:00:00.000000</td>\n",
       "            <td>250000000</td>\n",
       "            <td>http://marvel.com/captainamericapremiere</td>\n",
       "            <td>en</td>\n",
       "            <td>Captain America: Civil War</td>\n",
       "            <td>Following the events of Age of Ultron, the collective governments of the world pass an act designed to regulate all superhuman activity. This polarizes opinion amongst the Avengers, causing two factions to side with Iron Man or Captain America, which causes an epic battle between former allies.</td>\n",
       "            <td>198.372395</td>\n",
       "            <td>1153304495.0</td>\n",
       "            <td>147.0</td>\n",
       "            <td>Released</td>\n",
       "            <td>Divided We Fall</td>\n",
       "            <td>7.1</td>\n",
       "            <td>7241</td>\n",
       "        </tr>\n",
       "    </tbody>\n",
       "</table>"
      ],
      "text/plain": [
       "[(271110, 'Captain America: Civil War', '2016-04-27 00:00:00.000000', 250000000, 'http://marvel.com/captainamericapremiere', 'en', 'Captain America: Civil War', 'Following the events of Age of Ultron, the collective governments of the world pass an act designed to regulate all superhuman activity. This polarizes opinion amongst the Avengers, causing two factions to side with Iron Man or Captain America, which causes an epic battle between former allies.', 198.372395, 1153304495.0, 147.0, 'Released', 'Divided We Fall', 7.1, 7241)]"
      ]
     },
     "execution_count": 47,
     "metadata": {},
     "output_type": "execute_result"
    }
   ],
   "source": [
    "%%sql \n",
    "\n",
    "SELECT m.*\n",
    "FROM movies m\n",
    "JOIN LanguageMap lm on m.movie_id=lm.movie_id\n",
    "JOIN Languages l on lm.iso_639_1=l.iso_639_1\n",
    "JOIN GENREMAP gm ON m.movie_id = gm.movie_id\n",
    "JOIN genres g ON gm.genre_id = g.genre_id\n",
    "WHERE language_name='Deutsch' \n",
    "    AND genre_name='Action'\n",
    "order by m.popularity DESC\n",
    "LIMIT 1;"
   ]
  },
  {
   "cell_type": "markdown",
   "metadata": {
    "id": "1z4656wQJqn3"
   },
   "source": [
    "### Question 22\n",
    "In how many movies did Tom Cruise portray the character Ethan Hunt?\n",
    "\n"
   ]
  },
  {
   "cell_type": "code",
   "execution_count": 52,
   "metadata": {
    "id": "CiuwUD-NJqn3"
   },
   "outputs": [
    {
     "name": "stdout",
     "output_type": "stream",
     "text": [
      " * sqlite:///ALX_DS_Integrated_FInal_exam_data/ALX_DS_Integrated_FInal_exam_data/Exam_data_part_1/TMDB.db\n",
      "Done.\n"
     ]
    },
    {
     "data": {
      "text/html": [
       "<table>\n",
       "    <thead>\n",
       "        <tr>\n",
       "            <th>number_of_tom_as_Ethan</th>\n",
       "        </tr>\n",
       "    </thead>\n",
       "    <tbody>\n",
       "        <tr>\n",
       "            <td>5</td>\n",
       "        </tr>\n",
       "    </tbody>\n",
       "</table>"
      ],
      "text/plain": [
       "[(5,)]"
      ]
     },
     "execution_count": 52,
     "metadata": {},
     "output_type": "execute_result"
    }
   ],
   "source": [
    "%%sql \n",
    "SELECT COUNT(DISTINCT m.movie_id) as number_of_tom_as_Ethan\n",
    "FROM movies m\n",
    "JOIN Casts c ON m.movie_id=c.movie_id\n",
    "JOIN Actors a ON c.actor_id=a.actor_id\n",
    "WHERE actor_name='Tom Cruise'\n",
    "    AND characters='Ethan Hunt';"
   ]
  },
  {
   "cell_type": "markdown",
   "metadata": {
    "id": "cUsRwRKJJqn3"
   },
   "source": [
    "### Question 23 \n",
    "How many times was the actress Cate Blanchett nominated for an Oscar?"
   ]
  },
  {
   "cell_type": "code",
   "execution_count": 70,
   "metadata": {},
   "outputs": [
    {
     "name": "stdout",
     "output_type": "stream",
     "text": [
      " * sqlite:///ALX_DS_Integrated_FInal_exam_data/ALX_DS_Integrated_FInal_exam_data/Exam_data_part_1/TMDB.db\n",
      "Done.\n"
     ]
    },
    {
     "data": {
      "text/html": [
       "<table>\n",
       "    <thead>\n",
       "        <tr>\n",
       "            <th>number_of_nominations</th>\n",
       "        </tr>\n",
       "    </thead>\n",
       "    <tbody>\n",
       "        <tr>\n",
       "            <td>7</td>\n",
       "        </tr>\n",
       "    </tbody>\n",
       "</table>"
      ],
      "text/plain": [
       "[(7,)]"
      ]
     },
     "execution_count": 70,
     "metadata": {},
     "output_type": "execute_result"
    }
   ],
   "source": [
    "%%sql\n",
    "SELECT COUNT(*) AS number_of_nominations\n",
    "FROM oscars\n",
    "WHERE name = 'Cate Blanchett';"
   ]
  },
  {
   "cell_type": "markdown",
   "metadata": {
    "id": "W8AUQIETJqn4"
   },
   "source": [
    "### Question 24\n",
    "How many movies contain at least one of the official South African Languages, Afrikaans or Zulu?"
   ]
  },
  {
   "cell_type": "code",
   "execution_count": 110,
   "metadata": {
    "id": "VzRS8ueKJqn4"
   },
   "outputs": [
    {
     "name": "stdout",
     "output_type": "stream",
     "text": [
      " * sqlite:///ALX_DS_Integrated_FInal_exam_data/ALX_DS_Integrated_FInal_exam_data/Exam_data_part_1/TMDB.db\n",
      "Done.\n"
     ]
    },
    {
     "data": {
      "text/html": [
       "<table>\n",
       "    <thead>\n",
       "        <tr>\n",
       "            <th>number_with_sa</th>\n",
       "        </tr>\n",
       "    </thead>\n",
       "    <tbody>\n",
       "        <tr>\n",
       "            <td>8</td>\n",
       "        </tr>\n",
       "    </tbody>\n",
       "</table>"
      ],
      "text/plain": [
       "[(8,)]"
      ]
     },
     "execution_count": 110,
     "metadata": {},
     "output_type": "execute_result"
    }
   ],
   "source": [
    "%%sql \n",
    "SELECT COUNT(DISTINCT m.movie_id) as number_with_sa\n",
    "FROM movies m\n",
    "JOIN LanguageMap lm ON m.movie_id=lm.movie_id\n",
    "JOIN languages l ON lm.iso_639_1=l.iso_639_1\n",
    "WHERE l.language_name IN ('Afrikaans', 'isiZulu');"
   ]
  },
  {
   "cell_type": "markdown",
   "metadata": {
    "id": "F_qQO_h7Jqn4"
   },
   "source": [
    "### Question 25\n",
    "Which of the movies mentioned above is the most popular?\n"
   ]
  },
  {
   "cell_type": "code",
   "execution_count": 111,
   "metadata": {
    "id": "U502HuAJJqn4"
   },
   "outputs": [
    {
     "name": "stdout",
     "output_type": "stream",
     "text": [
      " * sqlite:///ALX_DS_Integrated_FInal_exam_data/ALX_DS_Integrated_FInal_exam_data/Exam_data_part_1/TMDB.db\n",
      "Done.\n"
     ]
    },
    {
     "data": {
      "text/html": [
       "<table>\n",
       "    <thead>\n",
       "        <tr>\n",
       "            <th>MAX( m.popularity)</th>\n",
       "            <th>most_popular_w_sa</th>\n",
       "        </tr>\n",
       "    </thead>\n",
       "    <tbody>\n",
       "        <tr>\n",
       "            <td>63.13678</td>\n",
       "            <td>District 9</td>\n",
       "        </tr>\n",
       "    </tbody>\n",
       "</table>"
      ],
      "text/plain": [
       "[(63.13678, 'District 9')]"
      ]
     },
     "execution_count": 111,
     "metadata": {},
     "output_type": "execute_result"
    }
   ],
   "source": [
    "%%sql \n",
    "SELECT MAX( m.popularity), m.title as most_popular_w_sa\n",
    "FROM movies m\n",
    "JOIN LanguageMap lm ON m.movie_id=lm.movie_id\n",
    "JOIN languages l ON lm.iso_639_1=l.iso_639_1\n",
    "WHERE l.language_name IN ('Afrikaans', 'isiZulu')\n",
    "limit 1;"
   ]
  },
  {
   "cell_type": "code",
   "execution_count": 84,
   "metadata": {},
   "outputs": [
    {
     "name": "stdout",
     "output_type": "stream",
     "text": [
      " * sqlite:///ALX_DS_Integrated_FInal_exam_data/ALX_DS_Integrated_FInal_exam_data/Exam_data_part_1/TMDB.db\n",
      "Done.\n"
     ]
    },
    {
     "data": {
      "text/html": [
       "<table>\n",
       "    <thead>\n",
       "        <tr>\n",
       "            <th>movie_id</th>\n",
       "            <th>title</th>\n",
       "            <th>release_date</th>\n",
       "            <th>budget</th>\n",
       "            <th>homepage</th>\n",
       "            <th>original_language</th>\n",
       "            <th>original_title</th>\n",
       "            <th>overview</th>\n",
       "            <th>popularity</th>\n",
       "            <th>revenue</th>\n",
       "            <th>runtime</th>\n",
       "            <th>release_status</th>\n",
       "            <th>tagline</th>\n",
       "            <th>vote_average</th>\n",
       "            <th>vote_count</th>\n",
       "            <th>movie_id_1</th>\n",
       "            <th>iso_639_1</th>\n",
       "            <th>iso_639_1_1</th>\n",
       "            <th>language_name</th>\n",
       "        </tr>\n",
       "    </thead>\n",
       "    <tbody>\n",
       "        <tr>\n",
       "            <td>17654</td>\n",
       "            <td>District 9</td>\n",
       "            <td>2009-08-05 00:00:00.000000</td>\n",
       "            <td>30000000</td>\n",
       "            <td>http://www.d-9.com/</td>\n",
       "            <td>en</td>\n",
       "            <td>District 9</td>\n",
       "            <td>Aliens land in South Africa and, with their ship totally disabled,  have no way home. Years later, after living in a slum and wearing out their welcome the &#x27;Non-Humans&#x27; are being moved to a new tent city overseen by Multi-National United (MNU).</td>\n",
       "            <td>63.13678</td>\n",
       "            <td>210819611.0</td>\n",
       "            <td>112.0</td>\n",
       "            <td>Released</td>\n",
       "            <td>You are not welcome here.</td>\n",
       "            <td>7.3</td>\n",
       "            <td>3382</td>\n",
       "            <td>17654</td>\n",
       "            <td>af</td>\n",
       "            <td>af</td>\n",
       "            <td>Afrikaans</td>\n",
       "        </tr>\n",
       "    </tbody>\n",
       "</table>"
      ],
      "text/plain": [
       "[(17654, 'District 9', '2009-08-05 00:00:00.000000', 30000000, 'http://www.d-9.com/', 'en', 'District 9', \"Aliens land in South Africa and, with their ship totally disabled,  have no way home. Years later, after living in a slum and wearing out their welcome the 'Non-Humans' are being moved to a new tent city overseen by Multi-National United (MNU).\", 63.13678, 210819611.0, 112.0, 'Released', 'You are not welcome here.', 7.3, 3382, 17654, 'af', 'af', 'Afrikaans')]"
      ]
     },
     "execution_count": 84,
     "metadata": {},
     "output_type": "execute_result"
    }
   ],
   "source": [
    "%%sql \n",
    "SELECT *\n",
    "FROM movies m\n",
    "JOIN LanguageMap lm ON m.movie_id=lm.movie_id\n",
    "JOIN languages l ON lm.iso_639_1=l.iso_639_1\n",
    "WHERE l.language_name IN ('Afrikaans', 'Zulu')\n",
    "ORDER BY m.popularity DESC\n",
    "limit 1;"
   ]
  },
  {
   "cell_type": "markdown",
   "metadata": {
    "id": "eJltWXG3Jqn5"
   },
   "source": [
    "### Question 26\n",
    "What would be the code to change the name of the language with the ‘zh’ iso code in the “language” table to ‘Chinese’?\n"
   ]
  },
  {
   "cell_type": "code",
   "execution_count": 88,
   "metadata": {
    "id": "1mxP-GuPJqn5"
   },
   "outputs": [
    {
     "name": "stdout",
     "output_type": "stream",
     "text": [
      " * sqlite:///ALX_DS_Integrated_FInal_exam_data/ALX_DS_Integrated_FInal_exam_data/Exam_data_part_1/TMDB.db\n",
      "1 rows affected.\n"
     ]
    },
    {
     "data": {
      "text/plain": [
       "[]"
      ]
     },
     "execution_count": 88,
     "metadata": {},
     "output_type": "execute_result"
    }
   ],
   "source": [
    "%%sql \n",
    "UPDATE Languages\n",
    "SET language_name = 'Chinese'\n",
    "WHERE iso_639_1 = 'zh';"
   ]
  },
  {
   "cell_type": "markdown",
   "metadata": {
    "id": "B2vmIMtTJqn5"
   },
   "source": [
    "### Question 27\n",
    "What would be the code to insert a new genre called ‘Sport’ with an id of 10? \n"
   ]
  },
  {
   "cell_type": "code",
   "execution_count": 95,
   "metadata": {
    "id": "KxHhto3QJqn5"
   },
   "outputs": [
    {
     "name": "stdout",
     "output_type": "stream",
     "text": [
      " * sqlite:///ALX_DS_Integrated_FInal_exam_data/ALX_DS_Integrated_FInal_exam_data/Exam_data_part_1/TMDB.db\n",
      "1 rows affected.\n"
     ]
    },
    {
     "data": {
      "text/plain": [
       "[]"
      ]
     },
     "execution_count": 95,
     "metadata": {},
     "output_type": "execute_result"
    }
   ],
   "source": [
    "%%sql \n",
    "INSERT INTO genres(genre_name,genre_id)\n",
    "VALUES('sport', 10);"
   ]
  },
  {
   "cell_type": "markdown",
   "metadata": {
    "id": "wJLGKPNqJqn5"
   },
   "source": [
    "### Question 28 \n",
    "You have just watched The Flintstones movie and did not find it very funny. What code would delete the entry that links The Flintstones to the Comedy genre?\n"
   ]
  },
  {
   "cell_type": "code",
   "execution_count": 98,
   "metadata": {
    "id": "ClMS3iSiJqn5"
   },
   "outputs": [
    {
     "name": "stdout",
     "output_type": "stream",
     "text": [
      " * sqlite:///ALX_DS_Integrated_FInal_exam_data/ALX_DS_Integrated_FInal_exam_data/Exam_data_part_1/TMDB.db\n",
      "1 rows affected.\n"
     ]
    },
    {
     "data": {
      "text/plain": [
       "[]"
      ]
     },
     "execution_count": 98,
     "metadata": {},
     "output_type": "execute_result"
    }
   ],
   "source": [
    "%%sql\n",
    "DELETE FROM genremap WHERE genre_id = 35 and movie_id = 888;"
   ]
  },
  {
   "cell_type": "markdown",
   "metadata": {
    "id": "ZHMUw-F3Jqn5"
   },
   "source": [
    "### Question 29\n",
    "What code will give the 10 most recently released movies in the database? \n"
   ]
  },
  {
   "cell_type": "code",
   "execution_count": 100,
   "metadata": {
    "id": "T7ZoP3zHJqn6"
   },
   "outputs": [
    {
     "name": "stdout",
     "output_type": "stream",
     "text": [
      " * sqlite:///ALX_DS_Integrated_FInal_exam_data/ALX_DS_Integrated_FInal_exam_data/Exam_data_part_1/TMDB.db\n",
      "Done.\n"
     ]
    },
    {
     "data": {
      "text/html": [
       "<table>\n",
       "    <thead>\n",
       "        <tr>\n",
       "            <th>movie_id</th>\n",
       "            <th>title</th>\n",
       "            <th>release_date</th>\n",
       "            <th>budget</th>\n",
       "            <th>homepage</th>\n",
       "            <th>original_language</th>\n",
       "            <th>original_title</th>\n",
       "            <th>overview</th>\n",
       "            <th>popularity</th>\n",
       "            <th>revenue</th>\n",
       "            <th>runtime</th>\n",
       "            <th>release_status</th>\n",
       "            <th>tagline</th>\n",
       "            <th>vote_average</th>\n",
       "            <th>vote_count</th>\n",
       "        </tr>\n",
       "    </thead>\n",
       "    <tbody>\n",
       "        <tr>\n",
       "            <td>426469</td>\n",
       "            <td>Growing Up Smith</td>\n",
       "            <td>2017-02-03 00:00:00.000000</td>\n",
       "            <td>0</td>\n",
       "            <td>http://www.growingupsmithmovie.com</td>\n",
       "            <td>en</td>\n",
       "            <td>Growing Up Smith</td>\n",
       "            <td>&quot;In 1979, an Indian family moves to America with hopes of living the American Dream. While their 10-year-old boy Smith falls head-over-heels for the girl next door, his desire to become a &quot;&quot;good old boy&quot;&quot; propels him further away from his family&#x27;s ideals than ever before.&quot;</td>\n",
       "            <td>0.71087</td>\n",
       "            <td>0.0</td>\n",
       "            <td>102.0</td>\n",
       "            <td>Released</td>\n",
       "            <td>ItÆs better to stand out than to fit in.</td>\n",
       "            <td>7.4</td>\n",
       "            <td>7</td>\n",
       "        </tr>\n",
       "        <tr>\n",
       "            <td>325373</td>\n",
       "            <td>Two Lovers and a Bear</td>\n",
       "            <td>2016-10-02 00:00:00.000000</td>\n",
       "            <td>0</td>\n",
       "            <td>None</td>\n",
       "            <td>en</td>\n",
       "            <td>Two Lovers and a Bear</td>\n",
       "            <td>Set in a small town near the North Pole where roads lead to nowhere, the story follows Roman and Lucy, two burning souls who come together to make a leap for life and inner peace.</td>\n",
       "            <td>3.139294</td>\n",
       "            <td>0.0</td>\n",
       "            <td>96.0</td>\n",
       "            <td>Released</td>\n",
       "            <td>None</td>\n",
       "            <td>6.8</td>\n",
       "            <td>27</td>\n",
       "        </tr>\n",
       "        <tr>\n",
       "            <td>374461</td>\n",
       "            <td>Mr. Church</td>\n",
       "            <td>2016-09-16 00:00:00.000000</td>\n",
       "            <td>8000000</td>\n",
       "            <td>None</td>\n",
       "            <td>en</td>\n",
       "            <td>Mr. Church</td>\n",
       "            <td>A unique friendship develops when a little girl and her dying mother inherit a cook - Mr. Church. What begins as an arrangement that should only last six months, instead spans fifteen years.</td>\n",
       "            <td>7.828459</td>\n",
       "            <td>0.0</td>\n",
       "            <td>104.0</td>\n",
       "            <td>Released</td>\n",
       "            <td>He was the one person she could always count on.</td>\n",
       "            <td>7.0</td>\n",
       "            <td>129</td>\n",
       "        </tr>\n",
       "        <tr>\n",
       "            <td>339408</td>\n",
       "            <td>The Birth of a Nation</td>\n",
       "            <td>2016-09-09 00:00:00.000000</td>\n",
       "            <td>8500000</td>\n",
       "            <td>http://www.foxsearchlight.com/thebirthofanation/</td>\n",
       "            <td>en</td>\n",
       "            <td>The Birth of a Nation</td>\n",
       "            <td>Nat Turner, a former slave in America, leads a liberation movement in 1831 to free African-Americans in Virgina that results in a violent retaliation from whites.</td>\n",
       "            <td>9.452808</td>\n",
       "            <td>15861566.0</td>\n",
       "            <td>120.0</td>\n",
       "            <td>Released</td>\n",
       "            <td>The Untold Story of Nat Turner</td>\n",
       "            <td>6.5</td>\n",
       "            <td>178</td>\n",
       "        </tr>\n",
       "        <tr>\n",
       "            <td>385736</td>\n",
       "            <td>Kicks</td>\n",
       "            <td>2016-09-09 00:00:00.000000</td>\n",
       "            <td>0</td>\n",
       "            <td>http://www.focusfeatures.com/kicks</td>\n",
       "            <td>en</td>\n",
       "            <td>Kicks</td>\n",
       "            <td>When his hard-earned kicks get snatched by a local hood, fifteen-year old Brandon and his two best friends go on an ill-advised mission across the Bay Area to retrieve the stolen sneakers.</td>\n",
       "            <td>3.467923</td>\n",
       "            <td>0.0</td>\n",
       "            <td>80.0</td>\n",
       "            <td>Released</td>\n",
       "            <td>They aren&#x27;t just shoes</td>\n",
       "            <td>7.5</td>\n",
       "            <td>18</td>\n",
       "        </tr>\n",
       "        <tr>\n",
       "            <td>332285</td>\n",
       "            <td>Antibirth</td>\n",
       "            <td>2016-09-02 00:00:00.000000</td>\n",
       "            <td>35000000</td>\n",
       "            <td>None</td>\n",
       "            <td>en</td>\n",
       "            <td>Antibirth</td>\n",
       "            <td>In a desolate community full of drug-addled Marines and rumors of kidnapping, a wild-eyed stoner named Lou wakes up after a crazy night of partying with symptoms of a strange illness and recurring visions. As she struggles to get a grip on reality, the stories of conspiracy spread.</td>\n",
       "            <td>3.674294</td>\n",
       "            <td>0.0</td>\n",
       "            <td>94.0</td>\n",
       "            <td>Released</td>\n",
       "            <td>None</td>\n",
       "            <td>4.8</td>\n",
       "            <td>40</td>\n",
       "        </tr>\n",
       "        <tr>\n",
       "            <td>184341</td>\n",
       "            <td>Hands of Stone</td>\n",
       "            <td>2016-08-26 00:00:00.000000</td>\n",
       "            <td>20000000</td>\n",
       "            <td>None</td>\n",
       "            <td>en</td>\n",
       "            <td>Hands of Stone</td>\n",
       "            <td>The legendary Roberto Duran and his equally legendary trainer Ray Arcel change each other&#x27;s lives.</td>\n",
       "            <td>7.444189</td>\n",
       "            <td>0.0</td>\n",
       "            <td>105.0</td>\n",
       "            <td>Released</td>\n",
       "            <td>No mßs. No surrender.</td>\n",
       "            <td>6.1</td>\n",
       "            <td>109</td>\n",
       "        </tr>\n",
       "        <tr>\n",
       "            <td>271969</td>\n",
       "            <td>Ben-Hur</td>\n",
       "            <td>2016-08-17 00:00:00.000000</td>\n",
       "            <td>100000000</td>\n",
       "            <td>http://www.benhurmovie.com/</td>\n",
       "            <td>en</td>\n",
       "            <td>Ben-Hur</td>\n",
       "            <td>A falsely accused nobleman survives years of slavery to take vengeance on his best friend who betrayed him.</td>\n",
       "            <td>29.608322</td>\n",
       "            <td>94061311.0</td>\n",
       "            <td>125.0</td>\n",
       "            <td>Released</td>\n",
       "            <td>First to finish. Last to die.</td>\n",
       "            <td>5.3</td>\n",
       "            <td>621</td>\n",
       "        </tr>\n",
       "        <tr>\n",
       "            <td>294272</td>\n",
       "            <td>Pete&#x27;s Dragon</td>\n",
       "            <td>2016-08-10 00:00:00.000000</td>\n",
       "            <td>65000000</td>\n",
       "            <td>http://movies.disney.com/petes-dragon-2016</td>\n",
       "            <td>en</td>\n",
       "            <td>Pete&#x27;s Dragon</td>\n",
       "            <td>Pete is a mysterious 10-year-old with no family and no home who claims to live in the woods with a giant, green dragon named Elliott. With the help of Natalie, an 11-year-old girl whose father Jack owns the local lumber mill, forest ranger Grace sets out to determine where Pete came from, where he belongs, and the truth about this dragon.</td>\n",
       "            <td>31.974359</td>\n",
       "            <td>143695338.0</td>\n",
       "            <td>102.0</td>\n",
       "            <td>Released</td>\n",
       "            <td>Some secrets are too big to keep.</td>\n",
       "            <td>6.2</td>\n",
       "            <td>679</td>\n",
       "        </tr>\n",
       "        <tr>\n",
       "            <td>297761</td>\n",
       "            <td>Suicide Squad</td>\n",
       "            <td>2016-08-02 00:00:00.000000</td>\n",
       "            <td>175000000</td>\n",
       "            <td>http://www.suicidesquad.com/</td>\n",
       "            <td>en</td>\n",
       "            <td>Suicide Squad</td>\n",
       "            <td>From DC Comics comes the Suicide Squad, an antihero team of incarcerated supervillains who act as deniable assets for the United States government, undertaking high-risk black ops missions in exchange for commuted prison sentences.</td>\n",
       "            <td>90.23792</td>\n",
       "            <td>745000000.0</td>\n",
       "            <td>123.0</td>\n",
       "            <td>Released</td>\n",
       "            <td>Worst Heroes Ever</td>\n",
       "            <td>5.9</td>\n",
       "            <td>7458</td>\n",
       "        </tr>\n",
       "    </tbody>\n",
       "</table>"
      ],
      "text/plain": [
       "[(426469, 'Growing Up Smith', '2017-02-03 00:00:00.000000', 0, 'http://www.growingupsmithmovie.com', 'en', 'Growing Up Smith', '\"In 1979, an Indian family moves to America with hopes of living the American Dream. While their 10-year-old boy Smith falls head-over-heels for the girl next door, his desire to become a \"\"good old boy\"\" propels him further away from his family\\'s ideals than ever before.\"', 0.71087, 0.0, 102.0, 'Released', 'ItÆs better to stand out than to fit in.', 7.4, 7),\n",
       " (325373, 'Two Lovers and a Bear', '2016-10-02 00:00:00.000000', 0, None, 'en', 'Two Lovers and a Bear', 'Set in a small town near the North Pole where roads lead to nowhere, the story follows Roman and Lucy, two burning souls who come together to make a leap for life and inner peace.', 3.139294, 0.0, 96.0, 'Released', None, 6.8, 27),\n",
       " (374461, 'Mr. Church', '2016-09-16 00:00:00.000000', 8000000, None, 'en', 'Mr. Church', 'A unique friendship develops when a little girl and her dying mother inherit a cook - Mr. Church. What begins as an arrangement that should only last six months, instead spans fifteen years.', 7.828459, 0.0, 104.0, 'Released', 'He was the one person she could always count on.', 7.0, 129),\n",
       " (339408, 'The Birth of a Nation', '2016-09-09 00:00:00.000000', 8500000, 'http://www.foxsearchlight.com/thebirthofanation/', 'en', 'The Birth of a Nation', 'Nat Turner, a former slave in America, leads a liberation movement in 1831 to free African-Americans in Virgina that results in a violent retaliation from whites.', 9.452808, 15861566.0, 120.0, 'Released', 'The Untold Story of Nat Turner', 6.5, 178),\n",
       " (385736, 'Kicks', '2016-09-09 00:00:00.000000', 0, 'http://www.focusfeatures.com/kicks', 'en', 'Kicks', 'When his hard-earned kicks get snatched by a local hood, fifteen-year old Brandon and his two best friends go on an ill-advised mission across the Bay Area to retrieve the stolen sneakers.', 3.467923, 0.0, 80.0, 'Released', \"They aren't just shoes\", 7.5, 18),\n",
       " (332285, 'Antibirth', '2016-09-02 00:00:00.000000', 35000000, None, 'en', 'Antibirth', 'In a desolate community full of drug-addled Marines and rumors of kidnapping, a wild-eyed stoner named Lou wakes up after a crazy night of partying with symptoms of a strange illness and recurring visions. As she struggles to get a grip on reality, the stories of conspiracy spread.', 3.674294, 0.0, 94.0, 'Released', None, 4.8, 40),\n",
       " (184341, 'Hands of Stone', '2016-08-26 00:00:00.000000', 20000000, None, 'en', 'Hands of Stone', \"The legendary Roberto Duran and his equally legendary trainer Ray Arcel change each other's lives.\", 7.444189, 0.0, 105.0, 'Released', 'No mßs. No surrender.', 6.1, 109),\n",
       " (271969, 'Ben-Hur', '2016-08-17 00:00:00.000000', 100000000, 'http://www.benhurmovie.com/', 'en', 'Ben-Hur', 'A falsely accused nobleman survives years of slavery to take vengeance on his best friend who betrayed him.', 29.608322, 94061311.0, 125.0, 'Released', 'First to finish. Last to die.', 5.3, 621),\n",
       " (294272, \"Pete's Dragon\", '2016-08-10 00:00:00.000000', 65000000, 'http://movies.disney.com/petes-dragon-2016', 'en', \"Pete's Dragon\", 'Pete is a mysterious 10-year-old with no family and no home who claims to live in the woods with a giant, green dragon named Elliott. With the help o ... (42 characters truncated) ... r Jack owns the local lumber mill, forest ranger Grace sets out to determine where Pete came from, where he belongs, and the truth about this dragon.', 31.974359, 143695338.0, 102.0, 'Released', 'Some secrets are too big to keep.', 6.2, 679),\n",
       " (297761, 'Suicide Squad', '2016-08-02 00:00:00.000000', 175000000, 'http://www.suicidesquad.com/', 'en', 'Suicide Squad', 'From DC Comics comes the Suicide Squad, an antihero team of incarcerated supervillains who act as deniable assets for the United States government, undertaking high-risk black ops missions in exchange for commuted prison sentences.', 90.23792, 745000000.0, 123.0, 'Released', 'Worst Heroes Ever', 5.9, 7458)]"
      ]
     },
     "execution_count": 100,
     "metadata": {},
     "output_type": "execute_result"
    }
   ],
   "source": [
    "%%sql \n",
    "SELECT *\n",
    "FROM movies\n",
    "ORDER BY release_date DESC LIMIT 10 "
   ]
  },
  {
   "cell_type": "code",
   "execution_count": 107,
   "metadata": {},
   "outputs": [
    {
     "name": "stdout",
     "output_type": "stream",
     "text": [
      " * sqlite:///ALX_DS_Integrated_FInal_exam_data/ALX_DS_Integrated_FInal_exam_data/Exam_data_part_1/TMDB.db\n",
      "(sqlite3.OperationalError) near \"FROM\": syntax error\n",
      "[SQL: SELECT TOP(10) *\n",
      "FROM movies\n",
      "ORDER BY release_date DESC;]\n",
      "(Background on this error at: https://sqlalche.me/e/20/e3q8)\n"
     ]
    }
   ],
   "source": [
    "%%sql\n",
    "SELECT TOP(10) *\n",
    "FROM movies\n",
    "ORDER BY release_date DESC;"
   ]
  },
  {
   "cell_type": "markdown",
   "metadata": {
    "id": "vf3P99TuJqn6"
   },
   "source": [
    "### Question 30\n",
    "What code would you use to add a column to the language table that could be used for the English names of the different languages?"
   ]
  },
  {
   "cell_type": "code",
   "execution_count": 108,
   "metadata": {
    "id": "UTxH_gcCJqn6"
   },
   "outputs": [
    {
     "name": "stdout",
     "output_type": "stream",
     "text": [
      " * sqlite:///ALX_DS_Integrated_FInal_exam_data/ALX_DS_Integrated_FInal_exam_data/Exam_data_part_1/TMDB.db\n",
      "Done.\n"
     ]
    },
    {
     "data": {
      "text/plain": [
       "[]"
      ]
     },
     "execution_count": 108,
     "metadata": {},
     "output_type": "execute_result"
    }
   ],
   "source": [
    "%%sql \n",
    "ALTER TABLE languages\n",
    "ADD language_english_name\n",
    "VARCHAR(50);"
   ]
  },
  {
   "cell_type": "code",
   "execution_count": null,
   "metadata": {},
   "outputs": [],
   "source": []
  }
 ],
 "metadata": {
  "colab": {
   "name": "EDSA Final Exam pt1_SQL section_student version.ipynb",
   "provenance": []
  },
  "kernelspec": {
   "display_name": "Python 3 (ipykernel)",
   "language": "python",
   "name": "python3"
  },
  "language_info": {
   "codemirror_mode": {
    "name": "ipython",
    "version": 3
   },
   "file_extension": ".py",
   "mimetype": "text/x-python",
   "name": "python",
   "nbconvert_exporter": "python",
   "pygments_lexer": "ipython3",
   "version": "3.12.4"
  }
 },
 "nbformat": 4,
 "nbformat_minor": 4
}
