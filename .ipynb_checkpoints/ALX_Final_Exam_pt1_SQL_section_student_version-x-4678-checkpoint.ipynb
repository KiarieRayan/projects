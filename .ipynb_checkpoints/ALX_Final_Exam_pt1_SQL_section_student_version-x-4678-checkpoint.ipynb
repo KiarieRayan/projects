{
 "cells": [
  {
   "cell_type": "markdown",
   "metadata": {
    "id": "O3uhQEw4Jqnt"
   },
   "source": [
    "# Gather Section (20 Questions, 40 Marks)\n",
    "\n",
    "You should have access to a file called TMDB.db. The first step to answering this set of questions will be to connect to this db file to access the data. \n",
    "\n",
    "![SQL Architectures](https://raw.githubusercontent.com/Explore-AI/Public-Data/master/image/TMDB_ERD.JPG)\n",
    "\n",
    "Before we start we need to load our SQL magic commands (we only need do this once per notebook):"
   ]
  },
  {
   "cell_type": "code",
   "execution_count": 3,
   "metadata": {
    "id": "tYyzGpQrJqnv"
   },
   "outputs": [],
   "source": [
    "%load_ext sql"
   ]
  },
  {
   "cell_type": "code",
   "execution_count": 10,
   "metadata": {},
   "outputs": [],
   "source": [
    "from sqlalchemy import create_engine, MetaData, Table"
   ]
  },
  {
   "cell_type": "markdown",
   "metadata": {
    "id": "ok5TGOw3Jqnw"
   },
   "source": [
    "*Note: we have to prepend a Jupyter notebook cell with `%%sql` in order to run a SQL query. Place your code in the '# Your code here' lines. If you experience trouble connecting to the .db file, please ensure that you have the `pymysql` and `ipython-sql` packages installed. Also ensure that `sqlalchemy` is pinned at a version <2.*\n",
    "\n",
    "\n",
    "Based on that data, answer the following questions:\n",
    "\n",
    "\n",
    "### Question 11\n",
    "What is the code you can use to connect to the TMBD database that is saved in the same location with the Jupyter notebook?\n"
   ]
  },
  {
   "cell_type": "code",
   "execution_count": 5,
   "metadata": {
    "id": "bkHzM8QXJqnw"
   },
   "outputs": [],
   "source": [
    "%sql sqlite:///ALX_DS_Integrated_FInal_exam_data/ALX_DS_Integrated_FInal_exam_data/Exam_data_part_1/TMDB.db"
   ]
  },
  {
   "cell_type": "code",
   "execution_count": 7,
   "metadata": {},
   "outputs": [
    {
     "name": "stdout",
     "output_type": "stream",
     "text": [
      " * sqlite:///ALX_DS_Integrated_FInal_exam_data/ALX_DS_Integrated_FInal_exam_data/Exam_data_part_1/TMDB.db\n",
      "Done.\n"
     ]
    },
    {
     "data": {
      "text/html": [
       "<table>\n",
       "    <thead>\n",
       "        <tr>\n",
       "            <th>movie_id</th>\n",
       "            <th>title</th>\n",
       "            <th>release_date</th>\n",
       "            <th>budget</th>\n",
       "            <th>homepage</th>\n",
       "            <th>original_language</th>\n",
       "            <th>original_title</th>\n",
       "            <th>overview</th>\n",
       "            <th>popularity</th>\n",
       "            <th>revenue</th>\n",
       "            <th>runtime</th>\n",
       "            <th>release_status</th>\n",
       "            <th>tagline</th>\n",
       "            <th>vote_average</th>\n",
       "            <th>vote_count</th>\n",
       "        </tr>\n",
       "    </thead>\n",
       "    <tbody>\n",
       "        <tr>\n",
       "            <td>5</td>\n",
       "            <td>Four Rooms</td>\n",
       "            <td>1995-12-09 00:00:00.000000</td>\n",
       "            <td>4000000</td>\n",
       "            <td>None</td>\n",
       "            <td>en</td>\n",
       "            <td>Four Rooms</td>\n",
       "            <td>It&#x27;s Ted the Bellhop&#x27;s first night on the job...and the hotel&#x27;s very unusual guests are about to place him in some outrageous predicaments. It seems that this evening&#x27;s room service is serving up one unbelievable happening after another.</td>\n",
       "            <td>22.87623</td>\n",
       "            <td>4300000.0</td>\n",
       "            <td>98.0</td>\n",
       "            <td>Released</td>\n",
       "            <td>Twelve outrageous guests. Four scandalous requests. And one lone bellhop, in his first day on the job, who&#x27;s in for the wildest New year&#x27;s Eve of his life.</td>\n",
       "            <td>6.5</td>\n",
       "            <td>530</td>\n",
       "        </tr>\n",
       "        <tr>\n",
       "            <td>11</td>\n",
       "            <td>Star Wars</td>\n",
       "            <td>1977-05-25 00:00:00.000000</td>\n",
       "            <td>11000000</td>\n",
       "            <td>http://www.starwars.com/films/star-wars-episode-iv-a-new-hope</td>\n",
       "            <td>en</td>\n",
       "            <td>Star Wars</td>\n",
       "            <td>Princess Leia is captured and held hostage by the evil Imperial forces in their effort to take over the galactic Empire. Venturesome Luke Skywalker and dashing captain Han Solo team together with the loveable robot duo R2-D2 and C-3PO to rescue the beautiful princess and restore peace and justice in the Empire.</td>\n",
       "            <td>126.393695</td>\n",
       "            <td>775398007.0</td>\n",
       "            <td>121.0</td>\n",
       "            <td>Released</td>\n",
       "            <td>A long time ago in a galaxy far, far away...</td>\n",
       "            <td>8.1</td>\n",
       "            <td>6624</td>\n",
       "        </tr>\n",
       "    </tbody>\n",
       "</table>"
      ],
      "text/plain": [
       "[(5, 'Four Rooms', '1995-12-09 00:00:00.000000', 4000000, None, 'en', 'Four Rooms', \"It's Ted the Bellhop's first night on the job...and the hotel's very unusual guests are about to place him in some outrageous predicaments. It seems that this evening's room service is serving up one unbelievable happening after another.\", 22.87623, 4300000.0, 98.0, 'Released', \"Twelve outrageous guests. Four scandalous requests. And one lone bellhop, in his first day on the job, who's in for the wildest New year's Eve of his life.\", 6.5, 530),\n",
       " (11, 'Star Wars', '1977-05-25 00:00:00.000000', 11000000, 'http://www.starwars.com/films/star-wars-episode-iv-a-new-hope', 'en', 'Star Wars', 'Princess Leia is captured and held hostage by the evil Imperial forces in their effort to take over the galactic Empire. Venturesome Luke Skywalker a ... (14 characters truncated) ... tain Han Solo team together with the loveable robot duo R2-D2 and C-3PO to rescue the beautiful princess and restore peace and justice in the Empire.', 126.393695, 775398007.0, 121.0, 'Released', 'A long time ago in a galaxy far, far away...', 8.1, 6624)]"
      ]
     },
     "execution_count": 7,
     "metadata": {},
     "output_type": "execute_result"
    }
   ],
   "source": [
    "%%sql\n",
    "select * from Movies\n",
    "limit 2;"
   ]
  },
  {
   "cell_type": "markdown",
   "metadata": {
    "id": "JgRO7x1-Jqnx"
   },
   "source": [
    "### Question 12\n",
    "What is the primary key for the table “movies”?\n",
    "\n"
   ]
  },
  {
   "cell_type": "code",
   "execution_count": 12,
   "metadata": {},
   "outputs": [],
   "source": [
    "from sqlalchemy import create_engine, MetaData, Table"
   ]
  },
  {
   "cell_type": "code",
   "execution_count": 13,
   "metadata": {},
   "outputs": [
    {
     "ename": "NameError",
     "evalue": "name 'metadata' is not defined",
     "output_type": "error",
     "traceback": [
      "\u001b[0;31m---------------------------------------------------------------------------\u001b[0m",
      "\u001b[0;31mNameError\u001b[0m                                 Traceback (most recent call last)",
      "Cell \u001b[0;32mIn[13], line 2\u001b[0m\n\u001b[1;32m      1\u001b[0m \u001b[38;5;66;03m# Reflect the languages table\u001b[39;00m\n\u001b[0;32m----> 2\u001b[0m languages_table \u001b[38;5;241m=\u001b[39m Table(\u001b[38;5;124m'\u001b[39m\u001b[38;5;124mlanguagemap\u001b[39m\u001b[38;5;124m'\u001b[39m, \u001b[43mmetadata\u001b[49m, autoload_with\u001b[38;5;241m=\u001b[39mengine)\n\u001b[1;32m      3\u001b[0m \u001b[38;5;28mprint\u001b[39m(\u001b[38;5;124mf\u001b[39m\u001b[38;5;124m\"\u001b[39m\u001b[38;5;124mForeign keys in \u001b[39m\u001b[38;5;124m'\u001b[39m\u001b[38;5;124mlanguages\u001b[39m\u001b[38;5;124m'\u001b[39m\u001b[38;5;124m: \u001b[39m\u001b[38;5;132;01m{\u001b[39;00m[fk\u001b[38;5;241m.\u001b[39mparent\u001b[38;5;241m.\u001b[39mname\u001b[38;5;250m \u001b[39m\u001b[38;5;28;01mfor\u001b[39;00m\u001b[38;5;250m \u001b[39mfk\u001b[38;5;250m \u001b[39m\u001b[38;5;129;01min\u001b[39;00m\u001b[38;5;250m \u001b[39mlanguages_table\u001b[38;5;241m.\u001b[39mforeign_keys]\u001b[38;5;132;01m}\u001b[39;00m\u001b[38;5;124m\"\u001b[39m)\n\u001b[1;32m      5\u001b[0m \u001b[38;5;66;03m# Reflect the movies table\u001b[39;00m\n",
      "\u001b[0;31mNameError\u001b[0m: name 'metadata' is not defined"
     ]
    }
   ],
   "source": [
    "# Reflect the languages table\n",
    "languages_table = Table('languagemap', metadata, autoload_with=engine)\n",
    "print(f\"Foreign keys in 'languages': {[fk.parent.name for fk in languages_table.foreign_keys]}\")\n",
    "\n",
    "# Reflect the movies table\n",
    "movies_table = Table('Movies', metadata, autoload_with=engine)\n",
    "print(f\"Foreign keys in 'movies': {[fk.parent.name for fk in movies_table.foreign_keys]}\")"
   ]
  },
  {
   "cell_type": "markdown",
   "metadata": {
    "id": "KSkdaG_iJqnx"
   },
   "source": [
    "### Question 13\n",
    "How many foreign keys does the “languagemap” table have?\n",
    "\n"
   ]
  },
  {
   "cell_type": "markdown",
   "metadata": {
    "id": "eO7T-b9AJqnx"
   },
   "source": [
    "### Question 14\n",
    "What code would you use to set up a view of all movies that did not get released?\n"
   ]
  },
  {
   "cell_type": "code",
   "execution_count": 14,
   "metadata": {
    "id": "8FTBNKnlJqny"
   },
   "outputs": [
    {
     "name": "stdout",
     "output_type": "stream",
     "text": [
      " * sqlite:///ALX_DS_Integrated_FInal_exam_data/ALX_DS_Integrated_FInal_exam_data/Exam_data_part_1/TMDB.db\n",
      "(sqlite3.OperationalError) view Not_Released already exists\n",
      "[SQL: CREATE VIEW Not_Released AS\n",
      "SELECT * FROM movies\n",
      "WHERE release_status != 'Released']\n",
      "(Background on this error at: https://sqlalche.me/e/20/e3q8)\n"
     ]
    }
   ],
   "source": [
    "%%sql \n",
    "\n",
    "CREATE VIEW Not_Released AS\n",
    "SELECT * FROM movies\n",
    "WHERE release_status != 'Released'"
   ]
  },
  {
   "cell_type": "markdown",
   "metadata": {
    "id": "GxuX_z8iJqny"
   },
   "source": [
    "### Question 15\n",
    "How would you select only the title, release date, and release status columns from the view you created in the previous question?\n"
   ]
  },
  {
   "cell_type": "code",
   "execution_count": 16,
   "metadata": {
    "id": "7E0ZI_d9Jqnz"
   },
   "outputs": [
    {
     "name": "stdout",
     "output_type": "stream",
     "text": [
      " * sqlite:///ALX_DS_Integrated_FInal_exam_data/ALX_DS_Integrated_FInal_exam_data/Exam_data_part_1/TMDB.db\n",
      "Done.\n"
     ]
    },
    {
     "data": {
      "text/html": [
       "<table>\n",
       "    <thead>\n",
       "        <tr>\n",
       "            <th>title</th>\n",
       "            <th>release_date</th>\n",
       "            <th>release_status</th>\n",
       "        </tr>\n",
       "    </thead>\n",
       "    <tbody>\n",
       "        <tr>\n",
       "            <td>Little Big Top</td>\n",
       "            <td>2006-01-01 00:00:00.000000</td>\n",
       "            <td>Rumored</td>\n",
       "        </tr>\n",
       "        <tr>\n",
       "            <td>The Helix... Loaded</td>\n",
       "            <td>2005-01-01 00:00:00.000000</td>\n",
       "            <td>Rumored</td>\n",
       "        </tr>\n",
       "        <tr>\n",
       "            <td>Higher Ground</td>\n",
       "            <td>2011-08-26 00:00:00.000000</td>\n",
       "            <td>Post Production</td>\n",
       "        </tr>\n",
       "        <tr>\n",
       "            <td>Crying with Laughter</td>\n",
       "            <td>2009-06-01 00:00:00.000000</td>\n",
       "            <td>Rumored</td>\n",
       "        </tr>\n",
       "        <tr>\n",
       "            <td>The Harvest (La Cosecha)</td>\n",
       "            <td>2011-07-29 00:00:00.000000</td>\n",
       "            <td>Rumored</td>\n",
       "        </tr>\n",
       "        <tr>\n",
       "            <td>The Naked Ape</td>\n",
       "            <td>2006-09-16 00:00:00.000000</td>\n",
       "            <td>Rumored</td>\n",
       "        </tr>\n",
       "        <tr>\n",
       "            <td>Brotherly Love</td>\n",
       "            <td>2015-04-24 00:00:00.000000</td>\n",
       "            <td>Post Production</td>\n",
       "        </tr>\n",
       "        <tr>\n",
       "            <td>Dancin&#x27; It&#x27;s On</td>\n",
       "            <td>2015-10-16 00:00:00.000000</td>\n",
       "            <td>Post Production</td>\n",
       "        </tr>\n",
       "    </tbody>\n",
       "</table>"
      ],
      "text/plain": [
       "[('Little Big Top', '2006-01-01 00:00:00.000000', 'Rumored'),\n",
       " ('The Helix... Loaded', '2005-01-01 00:00:00.000000', 'Rumored'),\n",
       " ('Higher Ground', '2011-08-26 00:00:00.000000', 'Post Production'),\n",
       " ('Crying with Laughter', '2009-06-01 00:00:00.000000', 'Rumored'),\n",
       " ('The Harvest (La Cosecha)', '2011-07-29 00:00:00.000000', 'Rumored'),\n",
       " ('The Naked Ape', '2006-09-16 00:00:00.000000', 'Rumored'),\n",
       " ('Brotherly Love', '2015-04-24 00:00:00.000000', 'Post Production'),\n",
       " (\"Dancin' It's On\", '2015-10-16 00:00:00.000000', 'Post Production')]"
      ]
     },
     "execution_count": 16,
     "metadata": {},
     "output_type": "execute_result"
    }
   ],
   "source": [
    "%%sql \n",
    "select title, release_date, release_status\n",
    "from Not_Released;"
   ]
  },
  {
   "cell_type": "markdown",
   "metadata": {
    "id": "WYqGtSSkJqnz"
   },
   "source": [
    "### Question 16\n",
    "How many movies are no longer using their original titles?\n",
    "\n"
   ]
  },
  {
   "cell_type": "code",
   "execution_count": 20,
   "metadata": {
    "id": "4l4MbDo2Jqn0"
   },
   "outputs": [
    {
     "name": "stdout",
     "output_type": "stream",
     "text": [
      " * sqlite:///ALX_DS_Integrated_FInal_exam_data/ALX_DS_Integrated_FInal_exam_data/Exam_data_part_1/TMDB.db\n",
      "Done.\n"
     ]
    },
    {
     "data": {
      "text/html": [
       "<table>\n",
       "    <thead>\n",
       "        <tr>\n",
       "            <th>count(*)</th>\n",
       "        </tr>\n",
       "    </thead>\n",
       "    <tbody>\n",
       "        <tr>\n",
       "            <td>261</td>\n",
       "        </tr>\n",
       "    </tbody>\n",
       "</table>"
      ],
      "text/plain": [
       "[(261,)]"
      ]
     },
     "execution_count": 20,
     "metadata": {},
     "output_type": "execute_result"
    }
   ],
   "source": [
    "%%sql \n",
    "select count(*) from movies\n",
    "where title != original_title;"
   ]
  },
  {
   "cell_type": "markdown",
   "metadata": {
    "id": "_ZJuNLfPJqn0"
   },
   "source": [
    "### Question 17\n",
    "What is the most popular movie that was made after 01/01/2000 with a budget of more than $100 000 000? (Hint: Use the popularity field in the Movies table. Larger numbers are more popular.)\n"
   ]
  },
  {
   "cell_type": "code",
   "execution_count": 21,
   "metadata": {
    "id": "AY2PN5HzJqn0"
   },
   "outputs": [
    {
     "name": "stdout",
     "output_type": "stream",
     "text": [
      " * sqlite:///ALX_DS_Integrated_FInal_exam_data/ALX_DS_Integrated_FInal_exam_data/Exam_data_part_1/TMDB.db\n",
      "Done.\n"
     ]
    },
    {
     "data": {
      "text/html": [
       "<table>\n",
       "    <thead>\n",
       "        <tr>\n",
       "            <th>movie_id</th>\n",
       "            <th>title</th>\n",
       "            <th>release_date</th>\n",
       "            <th>budget</th>\n",
       "            <th>homepage</th>\n",
       "            <th>original_language</th>\n",
       "            <th>original_title</th>\n",
       "            <th>overview</th>\n",
       "            <th>popularity</th>\n",
       "            <th>revenue</th>\n",
       "            <th>runtime</th>\n",
       "            <th>release_status</th>\n",
       "            <th>tagline</th>\n",
       "            <th>vote_average</th>\n",
       "            <th>vote_count</th>\n",
       "        </tr>\n",
       "    </thead>\n",
       "    <tbody>\n",
       "        <tr>\n",
       "            <td>157336</td>\n",
       "            <td>Interstellar</td>\n",
       "            <td>2014-11-05 00:00:00.000000</td>\n",
       "            <td>165000000</td>\n",
       "            <td>http://www.interstellarmovie.net/</td>\n",
       "            <td>en</td>\n",
       "            <td>Interstellar</td>\n",
       "            <td>Interstellar chronicles the adventures of a group of explorers who make use of a newly discovered wormhole to surpass the limitations on human space travel and conquer the vast distances involved in an interstellar voyage.</td>\n",
       "            <td>724.247784</td>\n",
       "            <td>675120017.0</td>\n",
       "            <td>169.0</td>\n",
       "            <td>Released</td>\n",
       "            <td>Mankind was born on Earth. It was never meant to die here.</td>\n",
       "            <td>8.1</td>\n",
       "            <td>10867</td>\n",
       "        </tr>\n",
       "    </tbody>\n",
       "</table>"
      ],
      "text/plain": [
       "[(157336, 'Interstellar', '2014-11-05 00:00:00.000000', 165000000, 'http://www.interstellarmovie.net/', 'en', 'Interstellar', 'Interstellar chronicles the adventures of a group of explorers who make use of a newly discovered wormhole to surpass the limitations on human space travel and conquer the vast distances involved in an interstellar voyage.', 724.247784, 675120017.0, 169.0, 'Released', 'Mankind was born on Earth. It was never meant to die here.', 8.1, 10867)]"
      ]
     },
     "execution_count": 21,
     "metadata": {},
     "output_type": "execute_result"
    }
   ],
   "source": [
    "%%sql \n",
    "SELECT * \n",
    "FROM movies \n",
    "WHERE release_date > '2000-01-01' \n",
    "  AND budget > 100000000 \n",
    "ORDER BY popularity DESC \n",
    "LIMIT 1;"
   ]
  },
  {
   "cell_type": "markdown",
   "metadata": {
    "id": "CfRuCZ68Jqn0"
   },
   "source": [
    "### Question 18\n",
    "How many movies are there that do not have English as their original language? \n",
    "\n"
   ]
  },
  {
   "cell_type": "code",
   "execution_count": 22,
   "metadata": {
    "id": "xptzYlgmJqn1"
   },
   "outputs": [
    {
     "name": "stdout",
     "output_type": "stream",
     "text": [
      " * sqlite:///ALX_DS_Integrated_FInal_exam_data/ALX_DS_Integrated_FInal_exam_data/Exam_data_part_1/TMDB.db\n",
      "Done.\n"
     ]
    },
    {
     "data": {
      "text/html": [
       "<table>\n",
       "    <thead>\n",
       "        <tr>\n",
       "            <th>COUNT(*)</th>\n",
       "        </tr>\n",
       "    </thead>\n",
       "    <tbody>\n",
       "        <tr>\n",
       "            <td>298</td>\n",
       "        </tr>\n",
       "    </tbody>\n",
       "</table>"
      ],
      "text/plain": [
       "[(298,)]"
      ]
     },
     "execution_count": 22,
     "metadata": {},
     "output_type": "execute_result"
    }
   ],
   "source": [
    "%%sql \n",
    "SELECT COUNT(*) FROM movies\n",
    "WHERE original_language != 'en';"
   ]
  },
  {
   "cell_type": "markdown",
   "metadata": {
    "id": "Xrn3qSOTJqn1"
   },
   "source": [
    "### Question 19\n",
    "How many movies in the database were produced by Pixar Animation Studios?\n",
    "\n"
   ]
  },
  {
   "cell_type": "code",
   "execution_count": 23,
   "metadata": {
    "id": "KaZyZChwJqn2"
   },
   "outputs": [
    {
     "name": "stdout",
     "output_type": "stream",
     "text": [
      " * sqlite:///ALX_DS_Integrated_FInal_exam_data/ALX_DS_Integrated_FInal_exam_data/Exam_data_part_1/TMDB.db\n",
      "Done.\n"
     ]
    },
    {
     "data": {
      "text/html": [
       "<table>\n",
       "    <thead>\n",
       "        <tr>\n",
       "            <th>number_of_pixar_movies</th>\n",
       "        </tr>\n",
       "    </thead>\n",
       "    <tbody>\n",
       "        <tr>\n",
       "            <td>16</td>\n",
       "        </tr>\n",
       "    </tbody>\n",
       "</table>"
      ],
      "text/plain": [
       "[(16,)]"
      ]
     },
     "execution_count": 23,
     "metadata": {},
     "output_type": "execute_result"
    }
   ],
   "source": [
    "%%sql \n",
    "SELECT COUNT(*) AS number_of_pixar_movies\n",
    "FROM Movies m\n",
    "JOIN ProductionCompanyMap p on m.movie_id = p.movie_id\n",
    "JOIN ProductionCompanies pc on p.production_company_id = pc.production_company_id\n",
    "WHERE pc.production_company_name = 'Pixar Animation Studios';"
   ]
  },
  {
   "cell_type": "markdown",
   "metadata": {
    "id": "_ewCIJeBJqn2"
   },
   "source": [
    "### Question 20\n",
    "How many movies are in the database that are both a Romance and a Comedy?\n"
   ]
  },
  {
   "cell_type": "code",
   "execution_count": null,
   "metadata": {
    "id": "4plDKomDJqn2"
   },
   "outputs": [],
   "source": [
    "%%sql \n",
    "# Your code here"
   ]
  },
  {
   "cell_type": "markdown",
   "metadata": {
    "id": "SRlyr7qcJqn2"
   },
   "source": [
    "### Question 21\n",
    "What is the most popular action movie that has some German in it? (Hint: The German word for German is Deutsch)"
   ]
  },
  {
   "cell_type": "code",
   "execution_count": null,
   "metadata": {
    "id": "9aS6m4uxJqn3"
   },
   "outputs": [],
   "source": [
    "%%sql \n",
    "# Your code here"
   ]
  },
  {
   "cell_type": "markdown",
   "metadata": {
    "id": "1z4656wQJqn3"
   },
   "source": [
    "### Question 22\n",
    "In how many movies did Tom Cruise portray the character Ethan Hunt?\n",
    "\n"
   ]
  },
  {
   "cell_type": "code",
   "execution_count": null,
   "metadata": {
    "id": "CiuwUD-NJqn3"
   },
   "outputs": [],
   "source": [
    "%%sql \n",
    "# Your code here"
   ]
  },
  {
   "cell_type": "markdown",
   "metadata": {
    "id": "cUsRwRKJJqn3"
   },
   "source": [
    "### Question 23 \n",
    "How many times was the actress Cate Blanchett nominated for an Oscar?"
   ]
  },
  {
   "cell_type": "code",
   "execution_count": null,
   "metadata": {
    "id": "JV_kvB2nJqn3"
   },
   "outputs": [],
   "source": [
    "%%sql \n",
    "# Your code here"
   ]
  },
  {
   "cell_type": "markdown",
   "metadata": {
    "id": "W8AUQIETJqn4"
   },
   "source": [
    "### Question 24\n",
    "How many movies contain at least one of the official South African Languages, Afrikaans or Zulu?"
   ]
  },
  {
   "cell_type": "code",
   "execution_count": null,
   "metadata": {
    "id": "VzRS8ueKJqn4"
   },
   "outputs": [],
   "source": [
    "%%sql \n",
    "# Your code here"
   ]
  },
  {
   "cell_type": "markdown",
   "metadata": {
    "id": "F_qQO_h7Jqn4"
   },
   "source": [
    "### Question 25\n",
    "Which of the movies mentioned above is the most popular?\n"
   ]
  },
  {
   "cell_type": "code",
   "execution_count": null,
   "metadata": {
    "id": "U502HuAJJqn4"
   },
   "outputs": [],
   "source": [
    "%%sql \n",
    "# Your code here"
   ]
  },
  {
   "cell_type": "markdown",
   "metadata": {
    "id": "eJltWXG3Jqn5"
   },
   "source": [
    "### Question 26\n",
    "What would be the code to change the name of the language with the ‘zh’ iso code in the “language” table to ‘Chinese’?\n"
   ]
  },
  {
   "cell_type": "code",
   "execution_count": null,
   "metadata": {
    "id": "1mxP-GuPJqn5"
   },
   "outputs": [],
   "source": [
    "%%sql \n",
    "# Your code here"
   ]
  },
  {
   "cell_type": "markdown",
   "metadata": {
    "id": "B2vmIMtTJqn5"
   },
   "source": [
    "### Question 27\n",
    "What would be the code to insert a new genre called ‘Sport’ with an id of 10? \n"
   ]
  },
  {
   "cell_type": "code",
   "execution_count": null,
   "metadata": {
    "id": "KxHhto3QJqn5"
   },
   "outputs": [],
   "source": [
    "%%sql \n",
    "# Your code here"
   ]
  },
  {
   "cell_type": "markdown",
   "metadata": {
    "id": "wJLGKPNqJqn5"
   },
   "source": [
    "### Question 28 \n",
    "You have just watched The Flintstones movie and did not find it very funny. What code would delete the entry that links The Flintstones to the Comedy genre?\n"
   ]
  },
  {
   "cell_type": "code",
   "execution_count": null,
   "metadata": {
    "id": "ClMS3iSiJqn5"
   },
   "outputs": [],
   "source": [
    "%%sql \n",
    "# Your code here"
   ]
  },
  {
   "cell_type": "markdown",
   "metadata": {
    "id": "ZHMUw-F3Jqn5"
   },
   "source": [
    "### Question 29\n",
    "What code will give the 10 most recently released movies in the database? \n"
   ]
  },
  {
   "cell_type": "code",
   "execution_count": null,
   "metadata": {
    "id": "T7ZoP3zHJqn6"
   },
   "outputs": [],
   "source": [
    "%%sql \n",
    "# Your code here"
   ]
  },
  {
   "cell_type": "markdown",
   "metadata": {
    "id": "vf3P99TuJqn6"
   },
   "source": [
    "### Question 30\n",
    "What code would you use to add a column to the language table that could be used for the English names of the different languages?"
   ]
  },
  {
   "cell_type": "code",
   "execution_count": null,
   "metadata": {
    "id": "UTxH_gcCJqn6"
   },
   "outputs": [],
   "source": [
    "%%sql \n",
    "# Your code here"
   ]
  }
 ],
 "metadata": {
  "colab": {
   "name": "EDSA Final Exam pt1_SQL section_student version.ipynb",
   "provenance": []
  },
  "kernelspec": {
   "display_name": "Python 3 (ipykernel)",
   "language": "python",
   "name": "python3"
  },
  "language_info": {
   "codemirror_mode": {
    "name": "ipython",
    "version": 3
   },
   "file_extension": ".py",
   "mimetype": "text/x-python",
   "name": "python",
   "nbconvert_exporter": "python",
   "pygments_lexer": "ipython3",
   "version": "3.12.4"
  }
 },
 "nbformat": 4,
 "nbformat_minor": 4
}
